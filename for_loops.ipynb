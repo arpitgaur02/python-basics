{
 "cells": [
  {
   "cell_type": "code",
   "execution_count": null,
   "id": "6a58a730-2a77-4669-8ba5-9c3970f40a9a",
   "metadata": {
    "id": "6a58a730-2a77-4669-8ba5-9c3970f40a9a",
    "outputId": "f2313fe9-f10a-496c-efa4-c144b6ea0c79"
   },
   "outputs": [
    {
     "name": "stdout",
     "output_type": "stream",
     "text": [
      "1\n",
      "2\n",
      "3\n",
      "4\n",
      "5\n"
     ]
    }
   ],
   "source": [
    "for item in [1, 2, 3, 4, 5]:\n",
    "    print(item)"
   ]
  },
  {
   "cell_type": "code",
   "execution_count": null,
   "id": "39dbcfa9-5a22-4810-845e-08ce8580febd",
   "metadata": {
    "id": "39dbcfa9-5a22-4810-845e-08ce8580febd",
    "outputId": "c7c4231d-fc6a-431b-831b-85d788d365ae"
   },
   "outputs": [
    {
     "name": "stdin",
     "output_type": "stream",
     "text": [
      "Pls Enter the list items in one go:  15235\n"
     ]
    },
    {
     "data": {
      "text/plain": [
       "['1', '5', '2', '3', '5']"
      ]
     },
     "execution_count": 1,
     "metadata": {},
     "output_type": "execute_result"
    }
   ],
   "source": [
    "list(input(\"Pls Enter the list items in one go: \"))"
   ]
  },
  {
   "cell_type": "code",
   "execution_count": null,
   "id": "8d2577ca-cd05-49c9-bd0d-d1349d9e04d0",
   "metadata": {
    "id": "8d2577ca-cd05-49c9-bd0d-d1349d9e04d0",
    "outputId": "04834e79-e71b-421d-dd71-071335d54a9c",
    "scrolled": true
   },
   "outputs": [
    {
     "data": {
      "text/plain": [
       "[0, 1, 2, 3]"
      ]
     },
     "execution_count": 2,
     "metadata": {},
     "output_type": "execute_result"
    }
   ],
   "source": [
    "list(range(4))"
   ]
  },
  {
   "cell_type": "markdown",
   "id": "efe66231-af2d-4756-a485-0ebd57c6e834",
   "metadata": {
    "id": "efe66231-af2d-4756-a485-0ebd57c6e834"
   },
   "source": [
    "# Program to find sum of elements of a list"
   ]
  },
  {
   "cell_type": "code",
   "execution_count": null,
   "id": "ea3401d6-2159-4ebe-b131-25be1669724d",
   "metadata": {
    "id": "ea3401d6-2159-4ebe-b131-25be1669724d",
    "outputId": "3c338000-9fa7-4637-dc60-5019e2ee8d67"
   },
   "outputs": [
    {
     "data": {
      "text/plain": [
       "110"
      ]
     },
     "execution_count": 30,
     "metadata": {},
     "output_type": "execute_result"
    }
   ],
   "source": [
    "prices, total = [10, 20, 30, 50], 0\n",
    "for price in prices:\n",
    "    total += price\n",
    "total"
   ]
  },
  {
   "cell_type": "markdown",
   "id": "d98fa38c-32d4-4f59-af88-520e8f4bd5dd",
   "metadata": {
    "id": "d98fa38c-32d4-4f59-af88-520e8f4bd5dd"
   },
   "source": [
    "# Program to print Coordinates"
   ]
  },
  {
   "cell_type": "code",
   "execution_count": 1,
   "id": "cc2b1992-1246-4cd1-bbca-aa488833e5f5",
   "metadata": {
    "colab": {
     "base_uri": "https://localhost:8080/"
    },
    "executionInfo": {
     "elapsed": 496,
     "status": "ok",
     "timestamp": 1713587025379,
     "user": {
      "displayName": "Arpit Gaur",
      "userId": "06046197048664446633"
     },
     "user_tz": -330
    },
    "id": "cc2b1992-1246-4cd1-bbca-aa488833e5f5",
    "outputId": "fe5c934e-29b0-4500-8e3a-0c71abadae5b"
   },
   "outputs": [
    {
     "name": "stdout",
     "output_type": "stream",
     "text": [
      "(0,0) (0,1) (0,2) (1,0) (1,1) (1,2) (2,0) (2,1) (2,2) (3,0) (3,1) (3,2) "
     ]
    }
   ],
   "source": [
    "for x in range(4):\n",
    "    for y in range(3):\n",
    "        print(f\"({x},{y})\", end = \" \")"
   ]
  },
  {
   "cell_type": "markdown",
   "id": "d3c9d178-9161-4d3f-9041-67ceb172c157",
   "metadata": {
    "id": "d3c9d178-9161-4d3f-9041-67ceb172c157"
   },
   "source": [
    "# Program to print L pattern using for loops"
   ]
  },
  {
   "cell_type": "code",
   "execution_count": 2,
   "id": "28300af8-af98-4a51-9623-fbd4b45a69f7",
   "metadata": {
    "colab": {
     "base_uri": "https://localhost:8080/"
    },
    "executionInfo": {
     "elapsed": 464,
     "status": "ok",
     "timestamp": 1713587031904,
     "user": {
      "displayName": "Arpit Gaur",
      "userId": "06046197048664446633"
     },
     "user_tz": -330
    },
    "id": "28300af8-af98-4a51-9623-fbd4b45a69f7",
    "outputId": "02173858-4bfd-4e12-a4e4-a931429dd923"
   },
   "outputs": [
    {
     "name": "stdout",
     "output_type": "stream",
     "text": [
      "x\n",
      "x\n",
      "x\n",
      "x\n",
      "xxxxx\n"
     ]
    }
   ],
   "source": [
    "numbers = [1,1,1,1,5]\n",
    "for x_count in numbers:\n",
    "    output = \"\"\n",
    "    for count in range(x_count):\n",
    "        output += \"x\"\n",
    "    print(output)"
   ]
  },
  {
   "cell_type": "markdown",
   "id": "8f73b40c-02b1-4762-8dec-ab4fa5dc4ff7",
   "metadata": {
    "id": "8f73b40c-02b1-4762-8dec-ab4fa5dc4ff7"
   },
   "source": [
    "# Program to print F pattern using nested loops"
   ]
  },
  {
   "cell_type": "code",
   "execution_count": 3,
   "id": "6e6689ea-d446-480b-a78a-f10cb1a9f646",
   "metadata": {
    "colab": {
     "base_uri": "https://localhost:8080/"
    },
    "executionInfo": {
     "elapsed": 6,
     "status": "ok",
     "timestamp": 1713587035927,
     "user": {
      "displayName": "Arpit Gaur",
      "userId": "06046197048664446633"
     },
     "user_tz": -330
    },
    "id": "6e6689ea-d446-480b-a78a-f10cb1a9f646",
    "outputId": "4aa27aaa-1c57-4174-ba66-b53519b25484",
    "scrolled": true
   },
   "outputs": [
    {
     "name": "stdout",
     "output_type": "stream",
     "text": [
      "x\n",
      "x\n",
      "x\n",
      "x\n",
      "xxxxx\n"
     ]
    }
   ],
   "source": [
    "for x_count in numbers:\n",
    "    output = \"\"\n",
    "    for x in range(x_count):\n",
    "        output += \"x\"\n",
    "    print(output)"
   ]
  },
  {
   "cell_type": "markdown",
   "id": "6ca3f1b1-35bb-4173-8a0c-b37b6a4497bd",
   "metadata": {
    "id": "6ca3f1b1-35bb-4173-8a0c-b37b6a4497bd"
   },
   "source": [
    "# Program to find the largest number in a list"
   ]
  },
  {
   "cell_type": "code",
   "execution_count": null,
   "id": "70f089f6-22e9-4f46-833f-5a7abeeab53d",
   "metadata": {
    "id": "70f089f6-22e9-4f46-833f-5a7abeeab53d",
    "outputId": "5b67b0bc-f457-447d-fc6b-6ba0c43ca575"
   },
   "outputs": [
    {
     "name": "stdout",
     "output_type": "stream",
     "text": [
      "8\n"
     ]
    }
   ],
   "source": [
    "ls = [8,6,5,4]    # define a list\n",
    "largest_num = ls[0]   # now create a variable to store largest element and then assign it to the first element of hte list\n",
    "for num in range(len(ls)-1):    # now start the loop and iterate it to as many time as there are elements in the list\n",
    "    if ls[num + 1] > ls[num]:    #\n",
    "        largest_num = ls[num + 1]\n",
    "print(largest_num)"
   ]
  },
  {
   "cell_type": "markdown",
   "id": "73bb9500-09a8-480a-a54f-f34c61c5d72d",
   "metadata": {
    "id": "73bb9500-09a8-480a-a54f-f34c61c5d72d"
   },
   "source": [
    "# Program to create a list fromm user input"
   ]
  },
  {
   "cell_type": "code",
   "execution_count": null,
   "id": "a8f2d268-9b06-4575-9f3b-365400936b11",
   "metadata": {
    "id": "a8f2d268-9b06-4575-9f3b-365400936b11"
   },
   "outputs": [],
   "source": [
    "list = []\n",
    "num_of_ele = int(input(\"Give Input: \"))\n",
    "for i in range(1, num+1):\n",
    "    ele = int(input(\"Give element: \"))\n",
    "    list.append(ele)"
   ]
  },
  {
   "cell_type": "markdown",
   "id": "bd30732f-05ae-490e-9a96-70ead41358ab",
   "metadata": {
    "id": "bd30732f-05ae-490e-9a96-70ead41358ab"
   },
   "source": [
    "# Program to remove dulplicates in a list"
   ]
  },
  {
   "cell_type": "markdown",
   "id": "gZ05uGbyv9kP",
   "metadata": {
    "id": "gZ05uGbyv9kP"
   },
   "source": [
    "## Method 1"
   ]
  },
  {
   "cell_type": "code",
   "execution_count": null,
   "id": "ab34745f-d6f0-4ba1-9579-bcfe529133a8",
   "metadata": {
    "id": "ab34745f-d6f0-4ba1-9579-bcfe529133a8",
    "outputId": "cdfa4784-3f2c-4a43-ff58-97280031ac1a"
   },
   "outputs": [
    {
     "name": "stdout",
     "output_type": "stream",
     "text": [
      "Emement '2' has 1 dulplicates\n",
      "Emement '5' has 2 dulplicates\n"
     ]
    },
    {
     "data": {
      "text/plain": [
       "[2, 3, 6, 5]"
      ]
     },
     "execution_count": 13,
     "metadata": {},
     "output_type": "execute_result"
    }
   ],
   "source": [
    "ls = [2,2,3,5,5,6, 5]\n",
    "for item in ls:\n",
    "    item_oc = ls.count(item)\n",
    "    if item_oc > 1:\n",
    "        item_du = item_oc - 1\n",
    "        print(f\"Emement '{item}' has {item_du} dulplicates\")    # since dulicates = Total occurence -1\n",
    "        for i in range(item_du):\n",
    "            ls.remove(item)\n",
    "ls\n"
   ]
  },
  {
   "cell_type": "markdown",
   "id": "c7320dcc-7ffa-4141-8154-b2887d2da934",
   "metadata": {},
   "source": [
    "## Method 2"
   ]
  },
  {
   "cell_type": "code",
   "execution_count": null,
   "id": "ca7725fc-a185-4af9-89cd-108d0a5be638",
   "metadata": {
    "id": "ca7725fc-a185-4af9-89cd-108d0a5be638"
   },
   "outputs": [],
   "source": [
    "ls = [2, 2, 3, 5, 5, 6, 5]\n",
    "new_ls = []  # Create a new list to store unique elements\n",
    "\n",
    "\n",
    "  if item not in new_ls:\n",
    "    new_ls.append(item)\n",
    "\n",
    "ls = new_ls  # Update the original list with unique elements\n",
    "print(ls)\n"
   ]
  }
 ],
 "metadata": {
  "accelerator": "GPU",
  "colab": {
   "gpuType": "T4",
   "provenance": []
  },
  "kernelspec": {
   "display_name": "Python 3 (ipykernel)",
   "language": "python",
   "name": "python3"
  },
  "language_info": {
   "codemirror_mode": {
    "name": "ipython",
    "version": 3
   },
   "file_extension": ".py",
   "mimetype": "text/x-python",
   "name": "python",
   "nbconvert_exporter": "python",
   "pygments_lexer": "ipython3",
   "version": "3.12.2"
  }
 },
 "nbformat": 4,
 "nbformat_minor": 5
}
