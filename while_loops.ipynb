{
 "cells": [
  {
   "cell_type": "markdown",
   "id": "49741ef5-ea32-459e-9a0e-4f373e5fffe2",
   "metadata": {},
   "source": [
    "# While Loops in Python\n",
    "In this notebook we'll practise some basic while loops programs for logic building"
   ]
  },
  {
   "cell_type": "markdown",
   "id": "cb481407-ed71-4b2b-860e-16131e4cd5b7",
   "metadata": {},
   "source": [
    "## Program to print mutiplication table"
   ]
  },
  {
   "cell_type": "code",
   "execution_count": 2,
   "id": "0caabc6e-8624-49d5-8878-299a55217ef2",
   "metadata": {},
   "outputs": [
    {
     "name": "stdin",
     "output_type": "stream",
     "text": [
      "Table of:  5\n",
      "how many times:  10\n"
     ]
    },
    {
     "name": "stdout",
     "output_type": "stream",
     "text": [
      "5 * 1 = 5\n",
      "5 * 2 = 10\n",
      "5 * 3 = 15\n",
      "5 * 4 = 20\n",
      "5 * 5 = 25\n",
      "5 * 6 = 30\n",
      "5 * 7 = 35\n",
      "5 * 8 = 40\n",
      "5 * 9 = 45\n",
      "5 * 10 = 50\n"
     ]
    }
   ],
   "source": [
    "n = int(input('Table of: '))\n",
    "i = int(input(\"how many times: \"))\n",
    "t = 1\n",
    "while t <= i:\n",
    "    result = t * n\n",
    "    print(f\"{n} * {t} = {result}\")\n",
    "    t += 1"
   ]
  },
  {
   "cell_type": "markdown",
   "id": "eda82e87-4534-435c-9c71-1cbb44288a9c",
   "metadata": {},
   "source": [
    "## Program to print table horizontally"
   ]
  },
  {
   "cell_type": "code",
   "execution_count": 21,
   "id": "f8ac94d3-e148-434f-997a-e845003ad128",
   "metadata": {},
   "outputs": [
    {
     "name": "stdin",
     "output_type": "stream",
     "text": [
      "Table of:  5\n",
      "how many times:  10\n"
     ]
    },
    {
     "name": "stdout",
     "output_type": "stream",
     "text": [
      "5 10 15 20 25 30 35 40 45 50 \n"
     ]
    }
   ],
   "source": [
    "n = int(input('Table of: '))\n",
    "i = int(input(\"how many times: \"))\n",
    "t = 1\n",
    "result = \"\" # we'll create an empty string first\n",
    "while t <= i: # this will start the first iteration\n",
    "    result += str(n * t) + \" \" # In the first interation result will become 5 then in second 10 then 15 and so on\n",
    "    t += 1\n",
    "print(result) # now finally we'll print the whole result\n",
    "    "
   ]
  },
  {
   "cell_type": "markdown",
   "id": "c4e68e79-2001-425a-a94e-734a283c30ce",
   "metadata": {},
   "source": [
    "## Program to Print Odd Nos"
   ]
  },
  {
   "cell_type": "code",
   "execution_count": 21,
   "id": "71947bc6-2397-40e7-840c-f2fc0452574d",
   "metadata": {},
   "outputs": [
    {
     "name": "stdin",
     "output_type": "stream",
     "text": [
      "start from 6\n",
      "how many odd numbers 10\n"
     ]
    },
    {
     "name": "stdout",
     "output_type": "stream",
     "text": [
      "9\n",
      "11\n",
      "13\n",
      "15\n",
      "17\n",
      "19\n",
      "21\n",
      "23\n",
      "25\n",
      "27\n"
     ]
    }
   ],
   "source": [
    "start_from = int(input(\"start from\"))\n",
    "how_many_odd_No = int(input(\"how many odd numbers\"))\n",
    "x = 1\n",
    "\n",
    "# Ensure that start_from is odd\n",
    "if start_from % 2 == 0:\n",
    "    start_from += 1\n",
    "\n",
    "while x <= int(how_many_odd_No):\n",
    "    start_from += 2\n",
    "    print(start_from)\n",
    "    x += 1\n"
   ]
  },
  {
   "cell_type": "code",
   "execution_count": 3,
   "id": "c08edb34-9f1d-4fd6-b1bd-9caf22457fd4",
   "metadata": {},
   "outputs": [],
   "source": []
  },
  {
   "cell_type": "code",
   "execution_count": null,
   "id": "1292cdfd-e1c1-4ce7-ab24-2b3a035ce7cc",
   "metadata": {},
   "outputs": [],
   "source": []
  }
 ],
 "metadata": {
  "kernelspec": {
   "display_name": "Python 3 (ipykernel)",
   "language": "python",
   "name": "python3"
  },
  "language_info": {
   "codemirror_mode": {
    "name": "ipython",
    "version": 3
   },
   "file_extension": ".py",
   "mimetype": "text/x-python",
   "name": "python",
   "nbconvert_exporter": "python",
   "pygments_lexer": "ipython3",
   "version": "3.12.2"
  }
 },
 "nbformat": 4,
 "nbformat_minor": 5
}
