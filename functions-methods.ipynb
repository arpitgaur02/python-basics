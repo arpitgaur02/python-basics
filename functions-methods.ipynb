{
 "cells": [
  {
   "cell_type": "code",
   "execution_count": 18,
   "id": "9b155047-6b66-44dc-bd92-6ee56582b8f6",
   "metadata": {},
   "outputs": [
    {
     "name": "stdout",
     "output_type": "stream",
     "text": [
      "Hi Arpit Gaur\n",
      "Have a Good Day\n"
     ]
    }
   ],
   "source": [
    "def greet_user(first_name, last_name):\n",
    "    \"This is the Docstring astha you\"\n",
    "    print(f\"Hi {first_name} {last_name}\")\n",
    "    print(\"Have a Good Day\")\n",
    "\n",
    "greet_user(first_name=\"Arpit\",last_name=\"Gaur\")"
   ]
  },
  {
   "cell_type": "code",
   "execution_count": null,
   "id": "d3b42bcd-5918-4a5b-8419-998baa35c25e",
   "metadata": {},
   "outputs": [],
   "source": [
    "def emoji_convertor(msg):\n",
    "    \"\"\"Coverts the \":)\" and \":(\" string to 😀 and 😞 respectively\"\"\"\n",
    "    emojis = {\":)\":\"😀\", \":(\":\"😟\"}\n",
    "    words = msg.split()\n",
    "    output = \"\"\n",
    "    for word in words:\n",
    "        output += emojis.get(word, word) + \" \" \n",
    "    return output\n",
    "\n",
    "\n",
    "msg = input(\"Taking the user Input\")\n",
    "print(emoji_convertor(msg))"
   ]
  },
  {
   "cell_type": "code",
   "execution_count": null,
   "id": "d36c7645-2bf8-45af-b08a-da73a6670e7e",
   "metadata": {},
   "outputs": [],
   "source": [
    "def square(number):\n",
    "    a = number*number\n",
    "    return a\n",
    "\n",
    "number = int(input(\">\"))\n",
    "square(number)"
   ]
  }
 ],
 "metadata": {
  "kernelspec": {
   "display_name": "Python 3 (ipykernel)",
   "language": "python",
   "name": "python3"
  },
  "language_info": {
   "codemirror_mode": {
    "name": "ipython",
    "version": 3
   },
   "file_extension": ".py",
   "mimetype": "text/x-python",
   "name": "python",
   "nbconvert_exporter": "python",
   "pygments_lexer": "ipython3",
   "version": "3.12.2"
  }
 },
 "nbformat": 4,
 "nbformat_minor": 5
}
