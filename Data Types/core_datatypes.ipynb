{
 "cells": [
  {
   "cell_type": "markdown",
   "id": "0c9c3069-aefe-4b24-b8c3-98cbfc111cb9",
   "metadata": {},
   "source": [
    "# List\n",
    "List is one of Core sequence datatype in Python"
   ]
  },
  {
   "cell_type": "code",
   "execution_count": 7,
   "id": "5f2584d9-156f-4374-bb9a-d49a643b53a0",
   "metadata": {},
   "outputs": [],
   "source": [
    "list = [2, 3, 5, 4]"
   ]
  },
  {
   "cell_type": "markdown",
   "id": "1d7e0da1-9ee0-41e2-afab-0f16b3c0b023",
   "metadata": {},
   "source": [
    "## List methods"
   ]
  },
  {
   "cell_type": "code",
   "execution_count": null,
   "id": "99757fbe-ca43-4e87-98ac-0589bd6ceac1",
   "metadata": {},
   "outputs": [],
   "source": [
    "list.append()\n",
    "list.clear()\n",
    "list.copy()\n",
    "list.count()\n",
    "list.extend()\n",
    "list.index()\n",
    "list.insert()\n",
    "list.pop()\n",
    "list.remove()\n",
    "list.reverse()\n",
    "list.sort()"
   ]
  },
  {
   "cell_type": "markdown",
   "id": "393fa6fc-b02a-433b-8331-7390fb73101d",
   "metadata": {},
   "source": [
    "# Tuple\n",
    "Tuples are like list ceated using simple brackets. The only diff is that Tuples are immuatable."
   ]
  },
  {
   "cell_type": "code",
   "execution_count": 6,
   "id": "7458c3b6-cdff-40ff-a0a2-6e3909d7ef3e",
   "metadata": {},
   "outputs": [],
   "source": [
    "tuple = ('a', 'b', 'c')"
   ]
  },
  {
   "cell_type": "markdown",
   "id": "d444a4d6-cc88-43d8-be06-2199bb188a5e",
   "metadata": {},
   "source": [
    "## Tuple methods"
   ]
  },
  {
   "cell_type": "code",
   "execution_count": null,
   "id": "b8e40f7b-9d63-4b31-a6d6-5bbca6d63690",
   "metadata": {},
   "outputs": [],
   "source": [
    "tuple.count('a')\n",
    "tuple.index('a')"
   ]
  },
  {
   "cell_type": "markdown",
   "id": "cf057213-b4e4-4b15-8d47-aeb1d2815a3d",
   "metadata": {},
   "source": [
    "# Dictionary\n",
    "* Dictionary are a mapping Data Type with Key value Pair.\n",
    "* They are Mutable.\n",
    "* No Duplicate.\n"
   ]
  },
  {
   "cell_type": "code",
   "execution_count": 2,
   "id": "d16f25f8-dd97-4992-938f-5eb3544bdf02",
   "metadata": {},
   "outputs": [],
   "source": [
    "dictionary = {\n",
    "    \"name\": 30,\n",
    "    \"phone\": \"+91 7879309911\",\n",
    "    \"email\": \"lokendra.gaur@gmail.com\"\n",
    "}\n"
   ]
  },
  {
   "cell_type": "markdown",
   "id": "cf5b4ebb-9092-416d-a9d9-975fbd652de9",
   "metadata": {},
   "source": [
    "## Dictionary methods"
   ]
  },
  {
   "cell_type": "code",
   "execution_count": 12,
   "id": "28c63882-3d3f-46a7-9fb6-36bef791371c",
   "metadata": {},
   "outputs": [
    {
     "data": {
      "text/plain": [
       "{'a': None, 'b': None, 'c': None}"
      ]
     },
     "execution_count": 12,
     "metadata": {},
     "output_type": "execute_result"
    }
   ],
   "source": [
    "dictionary.clear()\n",
    "dictionary.copy()\n",
    "dictionary.fromkeys()\n",
    "dictionary.get"
   ]
  },
  {
   "cell_type": "markdown",
   "id": "0dfef46e-617d-436d-b652-40b290dc9ede",
   "metadata": {},
   "source": [
    "# Weight Convertor"
   ]
  },
  {
   "cell_type": "code",
   "execution_count": 11,
   "id": "344c84d4-e601-45c3-abc5-a136bb6ec9a1",
   "metadata": {},
   "outputs": [
    {
     "name": "stdin",
     "output_type": "stream",
     "text": [
      "Enter the weight:  5\n",
      "(L)bs or (K)g:  L\n"
     ]
    },
    {
     "name": "stdout",
     "output_type": "stream",
     "text": [
      "Your Weight in Kg = 2.2675736961451247\n"
     ]
    }
   ],
   "source": [
    "weight = int(input(\"Enter the weight: \"))\n",
    "unit = input(\"(L)bs or (K)g: \")\n",
    "if unit == \"K\":\n",
    "    print(\"OH! Your weight unit is Kg\")\n",
    "    print(f\"Your weight in Pounds = {weight * 2.205 }\")\n",
    "else unit == \"L\":\n",
    "    print(\"OH! Your weight unit is Lbs\")\n",
    "    print(f\"Your Weight in Kg = {weight/2.205}\")"
   ]
  },
  {
   "cell_type": "markdown",
   "id": "e00b2989-b2b7-44ce-a73a-4173ca20f32a",
   "metadata": {},
   "source": [
    "# Guessing Game"
   ]
  },
  {
   "cell_type": "code",
   "execution_count": null,
   "id": "1e6334d1-d333-42d1-8720-d142cb8487d0",
   "metadata": {},
   "outputs": [],
   "source": [
    "secret_num = 9\n",
    "guess_count = 0\n",
    "guess_limit = 3\n",
    "\n",
    "while guess_count < guess_limit:\n",
    "    guess = int(input(\"Guess the number\"))\n",
    "    if guess == secret_num:\n",
    "        print('You guessed it right!')\n",
    "        break\n",
    "    guess_count += 1\n",
    "else:\n",
    "    print(\"You've exceeded the guess_limit\")"
   ]
  },
  {
   "cell_type": "markdown",
   "id": "0ff1c8bc-5ec3-4e85-966a-db5a89988bb9",
   "metadata": {},
   "source": [
    "# Car Game"
   ]
  },
  {
   "cell_type": "code",
   "execution_count": null,
   "id": "0daf3c27-ac50-4f40-be6c-c99ef88d2209",
   "metadata": {},
   "outputs": [],
   "source": [
    "user_input = \"\"\n",
    "started = False\n",
    "while user_input != \"quit\":\n",
    "    user_input = input(\"> \")\n",
    "    if user_input == \"start\":\n",
    "        if started:\n",
    "            print('Car already started')\n",
    "        else:\n",
    "            started = True\n",
    "            print('Car Started')\n",
    "    elif user_input == \"stop\":\n",
    "        if not started:\n",
    "            print('Car already stopped')\n",
    "        else:\n",
    "            started = False\n",
    "            print(\"Car Stopped\")\n",
    "    else:\n",
    "        print(\"I don't understand\")\n",
    "        "
   ]
  },
  {
   "cell_type": "code",
   "execution_count": null,
   "id": "1910c914-cbd0-4d31-907f-33bd008cc39f",
   "metadata": {},
   "outputs": [],
   "source": []
  }
 ],
 "metadata": {
  "kernelspec": {
   "display_name": "Python 3 (ipykernel)",
   "language": "python",
   "name": "python3"
  },
  "language_info": {
   "codemirror_mode": {
    "name": "ipython",
    "version": 3
   },
   "file_extension": ".py",
   "mimetype": "text/x-python",
   "name": "python",
   "nbconvert_exporter": "python",
   "pygments_lexer": "ipython3",
   "version": "3.12.2"
  }
 },
 "nbformat": 4,
 "nbformat_minor": 5
}
