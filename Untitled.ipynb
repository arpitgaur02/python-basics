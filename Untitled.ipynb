{
 "cells": [
  {
   "cell_type": "code",
   "execution_count": 16,
   "id": "fa1b2cd5-f650-4d4d-ab4f-8646a0d36f5d",
   "metadata": {},
   "outputs": [
    {
     "name": "stdin",
     "output_type": "stream",
     "text": [
      "Enter the numbers in digits:  123\n"
     ]
    },
    {
     "name": "stdout",
     "output_type": "stream",
     "text": [
      "One Two Three "
     ]
    }
   ],
   "source": [
    "d = {1: \"One\", 2: \"Two\", 3: \"Three\", 4: \"Four\"}\n",
    "user_in = input(\"Enter the numbers in digits: \")\n",
    "for item in user_in:\n",
    "    print(d.get(int(item)), end = \" \")"
   ]
  },
  {
   "cell_type": "code",
   "execution_count": 17,
   "id": "07979933-5763-40de-9247-abb145ddc4b0",
   "metadata": {
    "scrolled": true
   },
   "outputs": [
    {
     "name": "stdin",
     "output_type": "stream",
     "text": [
      "> hii :)\n"
     ]
    },
    {
     "name": "stdout",
     "output_type": "stream",
     "text": [
      "hii 😀 \n"
     ]
    }
   ],
   "source": [
    "msg = input(\">\")\n",
    "words = msg.split()\n",
    "emojis = {\":)\":\"😀\", \":(\":\"😟\"}\n",
    "output = \"\"\n",
    "for i in words:\n",
    "    output += emojis.get(i, i) + \" \"\n",
    "print(output)"
   ]
  },
  {
   "cell_type": "code",
   "execution_count": 7,
   "id": "28afe117-567d-4e91-8c8c-a9c0a3cd5ee2",
   "metadata": {},
   "outputs": [
    {
     "name": "stdin",
     "output_type": "stream",
     "text": [
      "Age:  0\n"
     ]
    },
    {
     "name": "stdout",
     "output_type": "stream",
     "text": [
      "Age can't be zero\n"
     ]
    }
   ],
   "source": [
    "try:\n",
    "    age = int(input(\"Age: \"))\n",
    "    income = 20000\n",
    "    risk = income/age\n",
    "    print(age)\n",
    "except ValueError:\n",
    "    print(\"Invalid input\")\n",
    "except ZeroDivisionError:\n",
    "    print(\"Age can't be zero\")"
   ]
  },
  {
   "cell_type": "code",
   "execution_count": 1,
   "id": "976f089a-82cb-43a9-987c-f46bfa484b98",
   "metadata": {},
   "outputs": [
    {
     "data": {
      "text/plain": [
       "False"
      ]
     },
     "execution_count": 1,
     "metadata": {},
     "output_type": "execute_result"
    }
   ],
   "source": [
    "def check_status(a, b, flag):\n",
    "    if ((a or b) > 0 and flag == False) or ((a and b) < 0 and flag == True):\n",
    "        return True\n",
    "    else:\n",
    "        return False\n",
    "        \n",
    "        \n",
    "check_status(-1, 1, False)"
   ]
  },
  {
   "cell_type": "code",
   "execution_count": 2,
   "id": "f78ff972-5272-48c2-b91c-eea5f16e3670",
   "metadata": {},
   "outputs": [
    {
     "data": {
      "text/plain": [
       "True"
      ]
     },
     "execution_count": 2,
     "metadata": {},
     "output_type": "execute_result"
    }
   ],
   "source": [
    "def check_status(a, b, flag):\n",
    "    if (a >= 0 and b < 0 and not flag) or (a < 0 and b >= 0 and not flag) or (a < 0 and b < 0 and flag):\n",
    "        return True\n",
    "    else:\n",
    "        return False\n",
    "\n",
    "\n",
    "check_status(-1, 1, False)"
   ]
  },
  {
   "cell_type": "code",
   "execution_count": null,
   "id": "0cf70b13-33fc-4355-b20f-bfc069ef6281",
   "metadata": {},
   "outputs": [],
   "source": []
  }
 ],
 "metadata": {
  "kernelspec": {
   "display_name": "Python 3 (ipykernel)",
   "language": "python",
   "name": "python3"
  },
  "language_info": {
   "codemirror_mode": {
    "name": "ipython",
    "version": 3
   },
   "file_extension": ".py",
   "mimetype": "text/x-python",
   "name": "python",
   "nbconvert_exporter": "python",
   "pygments_lexer": "ipython3",
   "version": "3.12.2"
  }
 },
 "nbformat": 4,
 "nbformat_minor": 5
}
