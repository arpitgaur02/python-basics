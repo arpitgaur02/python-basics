{
 "cells": [
  {
   "cell_type": "markdown",
   "id": "ef3b88dc-dfa3-4488-948e-6d20520dcf7b",
   "metadata": {},
   "source": [
    "# Multiples of 3 or 5"
   ]
  },
  {
   "cell_type": "code",
   "execution_count": 3,
   "id": "b67f7401-e7a3-46ad-a671-3a29162984af",
   "metadata": {
    "scrolled": true
   },
   "outputs": [
    {
     "name": "stdin",
     "output_type": "stream",
     "text": [
      "under how many 1000\n"
     ]
    },
    {
     "data": {
      "text/plain": [
       "233168"
      ]
     },
     "execution_count": 3,
     "metadata": {},
     "output_type": "execute_result"
    }
   ],
   "source": [
    "below = int(input(\"under how many\"))\n",
    "ls = list(range(1, below))\n",
    "multiple_ls = []\n",
    "ls\n",
    "sum_of_multiples = 0\n",
    "for item in ls:\n",
    "    if item % 3 == 0 or item % 5 == 0:\n",
    "        sum_of_multiples += item\n",
    "sum_of_multiples"
   ]
  },
  {
   "cell_type": "code",
   "execution_count": 6,
   "id": "5137c60d-750b-4247-83f5-0972bc8bc24b",
   "metadata": {},
   "outputs": [
    {
     "data": {
      "text/plain": [
       "False"
      ]
     },
     "execution_count": 6,
     "metadata": {},
     "output_type": "execute_result"
    }
   ],
   "source": []
  },
  {
   "cell_type": "code",
   "execution_count": null,
   "id": "6fc6adff-5bdc-4b98-95cc-943b5d96751a",
   "metadata": {},
   "outputs": [],
   "source": []
  }
 ],
 "metadata": {
  "kernelspec": {
   "display_name": "Python 3 (ipykernel)",
   "language": "python",
   "name": "python3"
  },
  "language_info": {
   "codemirror_mode": {
    "name": "ipython",
    "version": 3
   },
   "file_extension": ".py",
   "mimetype": "text/x-python",
   "name": "python",
   "nbconvert_exporter": "python",
   "pygments_lexer": "ipython3",
   "version": "3.12.2"
  }
 },
 "nbformat": 4,
 "nbformat_minor": 5
}
