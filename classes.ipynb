{
 "cells": [
  {
   "cell_type": "markdown",
   "id": "fa215ae9-af28-450f-a7ac-87d56f34fd94",
   "metadata": {},
   "source": [
    "# Defining a Class in Python\n",
    "* A class is a Blueprint to create Objects or Instances. A class contain attributes(properties) and methods(behaviours)\n",
    "* The term **attributes** to refer to the properties or data associated with a specific object of a given class.\n",
    "* The term **methods** to refer to the different behaviors that objects will show."
   ]
  },
  {
   "cell_type": "code",
   "execution_count": 2,
   "id": "c881b756-7c7c-42df-ba82-eb7c1c54f541",
   "metadata": {},
   "outputs": [],
   "source": [
    "import math\n",
    "\n",
    "class Circle:\n",
    "    def __init__(self, radius):\n",
    "        self.radius = radius\n",
    "\n",
    "    def calculate_area(self):\n",
    "        return round(math.pi * self.radius ** 2, 2)"
   ]
  },
  {
   "cell_type": "code",
   "execution_count": 22,
   "id": "430b862a-d978-4eac-a66e-9c45cc3d1d0d",
   "metadata": {},
   "outputs": [
    {
     "name": "stdout",
     "output_type": "stream",
     "text": [
      "walking\n"
     ]
    }
   ],
   "source": [
    "class dog:\n",
    "    def __init__(self, name, breed):\n",
    "        self.name = name\n",
    "        self.breed = breed\n",
    "    def walk(self):\n",
    "        print(\"walking\")\n",
    "dog_1 = dog(\"shaggy\", \"german_shephard\")\n",
    "dog_1.walk()"
   ]
  },
  {
   "cell_type": "markdown",
   "id": "59317ee2-0a03-4026-a4c5-e1154862e91d",
   "metadata": {},
   "source": [
    "# Creating Objects From a Class in Python\n",
    "* The action of creating concrete objects from an existing class is known as **instantiation**"
   ]
  },
  {
   "cell_type": "code",
   "execution_count": 9,
   "id": "420a8d96-52d7-43b2-a909-83dbf5eae8a7",
   "metadata": {},
   "outputs": [
    {
     "name": "stdout",
     "output_type": "stream",
     "text": [
      "<__main__.Circle object at 0x000001BBCBA6AFF0>\n",
      "<__main__.Circle object at 0x000001BBCBA6AAE0>\n"
     ]
    }
   ],
   "source": [
    "circle_1 = Circle(27)\n",
    "circle_2 = Circle(16)\n",
    "print(circle_1)\n",
    "print(circle_2)"
   ]
  },
  {
   "cell_type": "code",
   "execution_count": 10,
   "id": "481dad9e-13bf-4cb3-b027-12187a43dbb2",
   "metadata": {},
   "outputs": [
    {
     "data": {
      "text/plain": [
       "27"
      ]
     },
     "execution_count": 10,
     "metadata": {},
     "output_type": "execute_result"
    }
   ],
   "source": [
    "circle_1.radius"
   ]
  },
  {
   "cell_type": "code",
   "execution_count": 12,
   "id": "746dfd1a-6776-4f47-b856-1e67b780eeb7",
   "metadata": {},
   "outputs": [
    {
     "data": {
      "text/plain": [
       "2290.22"
      ]
     },
     "execution_count": 12,
     "metadata": {},
     "output_type": "execute_result"
    }
   ],
   "source": [
    "circle_1.calculate_area()"
   ]
  },
  {
   "cell_type": "code",
   "execution_count": 13,
   "id": "622cf67b-77c4-465c-9aae-86c305862d56",
   "metadata": {},
   "outputs": [
    {
     "data": {
      "text/plain": [
       "['__add__',\n",
       " '__class__',\n",
       " '__class_getitem__',\n",
       " '__contains__',\n",
       " '__delattr__',\n",
       " '__delitem__',\n",
       " '__dir__',\n",
       " '__doc__',\n",
       " '__eq__',\n",
       " '__format__',\n",
       " '__ge__',\n",
       " '__getattribute__',\n",
       " '__getitem__',\n",
       " '__getstate__',\n",
       " '__gt__',\n",
       " '__hash__',\n",
       " '__iadd__',\n",
       " '__imul__',\n",
       " '__init__',\n",
       " '__init_subclass__',\n",
       " '__iter__',\n",
       " '__le__',\n",
       " '__len__',\n",
       " '__lt__',\n",
       " '__mul__',\n",
       " '__ne__',\n",
       " '__new__',\n",
       " '__reduce__',\n",
       " '__reduce_ex__',\n",
       " '__repr__',\n",
       " '__reversed__',\n",
       " '__rmul__',\n",
       " '__setattr__',\n",
       " '__setitem__',\n",
       " '__sizeof__',\n",
       " '__str__',\n",
       " '__subclasshook__',\n",
       " 'append',\n",
       " 'clear',\n",
       " 'copy',\n",
       " 'count',\n",
       " 'extend',\n",
       " 'index',\n",
       " 'insert',\n",
       " 'pop',\n",
       " 'remove',\n",
       " 'reverse',\n",
       " 'sort']"
      ]
     },
     "execution_count": 13,
     "metadata": {},
     "output_type": "execute_result"
    }
   ],
   "source": []
  },
  {
   "cell_type": "code",
   "execution_count": null,
   "id": "ecb45629-2828-4cb6-a29e-2c5250732cc7",
   "metadata": {},
   "outputs": [],
   "source": []
  }
 ],
 "metadata": {
  "kernelspec": {
   "display_name": "Python 3 (ipykernel)",
   "language": "python",
   "name": "python3"
  },
  "language_info": {
   "codemirror_mode": {
    "name": "ipython",
    "version": 3
   },
   "file_extension": ".py",
   "mimetype": "text/x-python",
   "name": "python",
   "nbconvert_exporter": "python",
   "pygments_lexer": "ipython3",
   "version": "3.12.2"
  }
 },
 "nbformat": 4,
 "nbformat_minor": 5
}
